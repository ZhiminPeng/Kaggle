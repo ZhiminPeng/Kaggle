{
 "metadata": {
  "name": "",
  "signature": "sha256:1ca272293339209660cce631f2066afc45e0379a98017e60054c1dd735bce23c"
 },
 "nbformat": 3,
 "nbformat_minor": 0,
 "worksheets": [
  {
   "cells": [
    {
     "cell_type": "heading",
     "level": 1,
     "metadata": {},
     "source": [
      "Explore the dataset"
     ]
    },
    {
     "cell_type": "code",
     "collapsed": false,
     "input": [
      "import csv\n",
      "import re\n",
      "import nltk.corpus\n",
      "from collections import defaultdict\n",
      "import scipy.sparse as sp\n",
      "import numpy as np\n",
      "import os\n",
      "from sklearn.linear_model import SGDClassifier\n",
      "from nltk import SnowballStemmer\n",
      "import random as rnd\n",
      "import logging\n",
      "from sklearn.externals import joblib\n",
      "from sklearn.metrics import roc_auc_score\n",
      "import matplotlib.pyplot as plt\n",
      "from APatK import *\n",
      "%matplotlib inline  "
     ],
     "language": "python",
     "metadata": {},
     "outputs": [],
     "prompt_number": 32
    },
    {
     "cell_type": "code",
     "collapsed": false,
     "input": [
      "dataFolder = \"/Users/zhiminp/Documents/Kaggle/avito/data/\"\n",
      "\n",
      "stopwords= frozenset(word.decode('utf-8') for word in nltk.corpus.stopwords.words(\"russian\") if word!=\"\u043d\u0435\")\n",
      "stemmer = SnowballStemmer('russian')\n",
      "engChars = [ord(char) for char in u\"cCyoOBaAKpPeE\"]\n",
      "rusChars = [ord(char) for char in u\"\u0441\u0421\u0443\u043e\u041e\u0412\u0430\u0410\u041a\u0440\u0420\u0435\u0415\"]\n",
      "eng_rusTranslateTable = dict(zip(engChars, rusChars))\n",
      "rus_engTranslateTable = dict(zip(rusChars, engChars))"
     ],
     "language": "python",
     "metadata": {},
     "outputs": [],
     "prompt_number": 16
    },
    {
     "cell_type": "code",
     "collapsed": false,
     "input": [
      "trainFeatures, trainTargets, trainItemIds, testFeatures, testItemIds = joblib.load(os.path.join(dataFolder,\"train_data.pkl\"))"
     ],
     "language": "python",
     "metadata": {},
     "outputs": [],
     "prompt_number": 17
    },
    {
     "cell_type": "code",
     "collapsed": false,
     "input": [
      "trainFeatures"
     ],
     "language": "python",
     "metadata": {},
     "outputs": [
      {
       "metadata": {},
       "output_type": "pyout",
       "prompt_number": 18,
       "text": [
        "<300000x126229 sparse matrix of type '<type 'numpy.float64'>'\n",
        "\twith 8236840 stored elements in Compressed Sparse Row format>"
       ]
      }
     ],
     "prompt_number": 18
    },
    {
     "cell_type": "code",
     "collapsed": false,
     "input": [
      "testFeatures"
     ],
     "language": "python",
     "metadata": {},
     "outputs": [
      {
       "metadata": {},
       "output_type": "pyout",
       "prompt_number": 19,
       "text": [
        "<1351242x126229 sparse matrix of type '<type 'numpy.float64'>'\n",
        "\twith 36394210 stored elements in Compressed Sparse Row format>"
       ]
      }
     ],
     "prompt_number": 19
    },
    {
     "cell_type": "code",
     "collapsed": false,
     "input": [
      "logging.info(\"Feature preparation done, fitting model...\")\n",
      "clf = SGDClassifier(    loss=\"log\",\n",
      "                            penalty=\"l2\",\n",
      "                            alpha=1e-5,\n",
      "                            class_weight=\"auto\",\n",
      "                            n_iter = 1000)\n",
      "clf.fit(trainFeatures,trainTargets)\n",
      "\n",
      "logging.info(\"Predicting...\")\n",
      "\n",
      "predicted_scores = clf.predict_proba(trainFeatures).T[1]\n"
     ],
     "language": "python",
     "metadata": {},
     "outputs": [],
     "prompt_number": 26
    },
    {
     "cell_type": "code",
     "collapsed": false,
     "input": [
      "predicted_scores"
     ],
     "language": "python",
     "metadata": {},
     "outputs": [
      {
       "metadata": {},
       "output_type": "pyout",
       "prompt_number": 28,
       "text": [
        "array([  2.05477453e-05,   3.78595923e-01,   1.16666259e-04, ...,\n",
        "         7.44166802e-06,   1.01522430e-01,   1.84445784e-04])"
       ]
      }
     ],
     "prompt_number": 28
    },
    {
     "cell_type": "code",
     "collapsed": false,
     "input": [
      "roc_auc_score(trainTargets, predicted_scores)"
     ],
     "language": "python",
     "metadata": {},
     "outputs": [
      {
       "metadata": {},
       "output_type": "pyout",
       "prompt_number": 29,
       "text": [
        "0.996943616632609"
       ]
      }
     ],
     "prompt_number": 29
    },
    {
     "cell_type": "code",
     "collapsed": false,
     "input": [],
     "language": "python",
     "metadata": {},
     "outputs": [],
     "prompt_number": 27
    },
    {
     "cell_type": "code",
     "collapsed": false,
     "input": [],
     "language": "python",
     "metadata": {},
     "outputs": []
    }
   ],
   "metadata": {}
  }
 ]
}